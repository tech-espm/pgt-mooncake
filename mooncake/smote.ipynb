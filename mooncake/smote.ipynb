{
 "cells": [
  {
   "cell_type": "code",
   "execution_count": 16,
   "metadata": {
    "pycharm": {
     "is_executing": true
    }
   },
   "outputs": [],
   "source": [
    "from sklearn.tree import DecisionTreeClassifier\n",
    "from sklearn.metrics import accuracy_score\n",
    "from imblearn.over_sampling import SMOTE\n",
    "from sklearn.svm import LinearSVC\n",
    "from sklearn import linear_model\n",
    "\n",
    "import helpers\n",
    "import models\n",
    "\n",
    "import datetime\n",
    "import pandas"
   ]
  },
  {
   "cell_type": "code",
   "execution_count": 2,
   "metadata": {
    "pycharm": {
     "is_executing": true
    }
   },
   "outputs": [],
   "source": [
    "train_path = r\"C:\\Users\\bruno\\Downloads\\PS_20174392719_1491204439457_log.csv\""
   ]
  },
  {
   "cell_type": "code",
   "execution_count": 3,
   "metadata": {
    "pycharm": {
     "is_executing": true
    },
    "scrolled": true
   },
   "outputs": [],
   "source": [
    "df = pandas.read_csv(train_path).drop(['isFlaggedFraud', 'nameOrig', 'nameDest'], axis=1)"
   ]
  },
  {
   "cell_type": "code",
   "execution_count": 4,
   "metadata": {
    "pycharm": {
     "is_executing": true
    }
   },
   "outputs": [
    {
     "data": {
      "text/plain": [
       "Index(['step', 'type', 'amount', 'oldbalanceOrg', 'newbalanceOrig',\n",
       "       'oldbalanceDest', 'newbalanceDest', 'isFraud'],\n",
       "      dtype='object')"
      ]
     },
     "execution_count": 4,
     "metadata": {},
     "output_type": "execute_result"
    }
   ],
   "source": [
    "df.columns"
   ]
  },
  {
   "cell_type": "code",
   "execution_count": 5,
   "metadata": {
    "pycharm": {
     "is_executing": true
    }
   },
   "outputs": [
    {
     "data": {
      "text/plain": [
       "CASH_OUT    2237500\n",
       "PAYMENT     2151495\n",
       "CASH_IN     1399284\n",
       "TRANSFER     532909\n",
       "DEBIT         41432\n",
       "Name: type, dtype: int64"
      ]
     },
     "execution_count": 5,
     "metadata": {},
     "output_type": "execute_result"
    }
   ],
   "source": [
    "df.type.value_counts()"
   ]
  },
  {
   "cell_type": "code",
   "execution_count": null,
   "metadata": {
    "pycharm": {
     "is_executing": true
    }
   },
   "outputs": [],
   "source": [
    "df.isFraud.value_counts()"
   ]
  },
  {
   "cell_type": "code",
   "execution_count": 6,
   "metadata": {
    "pycharm": {
     "is_executing": true
    }
   },
   "outputs": [],
   "source": [
    "df.loc[df['type'] == 'CASH_IN', 'type'] = 0\n",
    "df.loc[df['type'] == 'CASH_OUT', 'type'] = 1\n",
    "df.loc[df['type'] == 'DEBIT', 'type'] = 2\n",
    "df.loc[df['type'] == 'PAYMENT', 'type'] = 3\n",
    "df.loc[df['type'] == 'TRANSFER', 'type'] = 4"
   ]
  },
  {
   "cell_type": "code",
   "execution_count": 7,
   "metadata": {
    "pycharm": {
     "is_executing": true
    }
   },
   "outputs": [
    {
     "data": {
      "text/plain": [
       "0.12908204481801522"
      ]
     },
     "execution_count": 7,
     "metadata": {},
     "output_type": "execute_result"
    }
   ],
   "source": [
    "len(df[df['isFraud'] == 1] )/len(df) * 100"
   ]
  },
  {
   "cell_type": "code",
   "execution_count": 8,
   "metadata": {
    "pycharm": {
     "is_executing": true
    }
   },
   "outputs": [],
   "source": [
    "df_non_fraud = df[df['isFraud'] == 0]\n",
    "df_fraud = df[df['isFraud'] == 1]"
   ]
  },
  {
   "cell_type": "code",
   "execution_count": 9,
   "metadata": {
    "pycharm": {
     "is_executing": true
    }
   },
   "outputs": [],
   "source": [
    "df_fraud, fraud_validation = helpers.data_separation(df_fraud)\n",
    "# df_non_fraud = helpers.data_separation(df_non_fraud, 0.05)[1].reset_index(drop=True)\n",
    "# df = df_non_fraud.append(df_fraud).reset_index(drop=True)"
   ]
  },
  {
   "cell_type": "code",
   "execution_count": 10,
   "metadata": {
    "pycharm": {
     "is_executing": true
    }
   },
   "outputs": [],
   "source": [
    "train, test = helpers.data_separation(df)\n",
    "test, validation = helpers.data_separation(test, 0.5)"
   ]
  },
  {
   "cell_type": "code",
   "execution_count": 11,
   "metadata": {
    "pycharm": {
     "is_executing": true
    }
   },
   "outputs": [],
   "source": [
    "x_train, y_train = helpers.x_and_y_separation(train)\n",
    "x_test, y_test = helpers.x_and_y_separation(test)\n",
    "x_validation, y_validation = helpers.x_and_y_separation(validation)\n",
    "\n",
    "y_train = pandas.DataFrame(y_train)\n",
    "y_test = pandas.DataFrame(y_test)\n",
    "y_validation = pandas.DataFrame(y_validation)"
   ]
  },
  {
   "cell_type": "code",
   "execution_count": 12,
   "metadata": {
    "pycharm": {
     "is_executing": true
    }
   },
   "outputs": [],
   "source": [
    "x_train, y_train = SMOTE().fit_sample(x_train, y_train)"
   ]
  },
  {
   "cell_type": "code",
   "execution_count": 13,
   "metadata": {
    "pycharm": {
     "is_executing": true
    }
   },
   "outputs": [],
   "source": [
    "y_train.reset_index(drop=True, inplace=True)\n",
    "y_test.reset_index(drop=True, inplace=True)\n",
    "y_validation.reset_index(drop=True, inplace=True)"
   ]
  },
  {
   "cell_type": "code",
   "execution_count": 14,
   "metadata": {
    "pycharm": {
     "is_executing": true
    },
    "scrolled": true
   },
   "outputs": [
    {
     "name": "stdout",
     "output_type": "stream",
     "text": [
      "0:00:05.100708\n"
     ]
    }
   ],
   "source": [
    "d = datetime.datetime.now()\n",
    "model = linear_model.LinearRegression().fit(x_train, y_train)\n",
    "helpers.time_screening(d)"
   ]
  },
  {
   "cell_type": "code",
   "execution_count": 17,
   "metadata": {},
   "outputs": [
    {
     "name": "stdout",
     "output_type": "stream",
     "text": [
      "0:02:33.888025\n"
     ]
    }
   ],
   "source": [
    "d = datetime.datetime.now()\n",
    "model = DecisionTreeClassifier().fit(x_train, y_train)\n",
    "helpers.time_screening(d)"
   ]
  },
  {
   "cell_type": "code",
   "execution_count": 38,
   "metadata": {
    "pycharm": {
     "is_executing": true
    }
   },
   "outputs": [
    {
     "name": "stdout",
     "output_type": "stream",
     "text": [
      "0:51:12.724637\n"
     ]
    }
   ],
   "source": [
    "d = datetime.datetime.now()\n",
    "model = models.RandomForest(x_train, y_train.isFraud).fit()\n",
    "helpers.time_screening(d)"
   ]
  },
  {
   "cell_type": "code",
   "execution_count": 44,
   "metadata": {
    "pycharm": {
     "is_executing": true
    }
   },
   "outputs": [
    {
     "name": "stdout",
     "output_type": "stream",
     "text": [
      "0:38:12.734978\n"
     ]
    }
   ],
   "source": [
    "d = datetime.datetime.now()\n",
    "model = LinearSVC(C=0.01, penalty=\"l1\", dual=False, max_iter=10000).fit(x_train, y_train.isFraud.values)\n",
    "helpers.time_screening(d)"
   ]
  },
  {
   "cell_type": "code",
   "execution_count": 45,
   "metadata": {
    "pycharm": {
     "is_executing": true
    }
   },
   "outputs": [
    {
     "data": {
      "text/html": [
       "<div>\n",
       "<style scoped>\n",
       "    .dataframe tbody tr th:only-of-type {\n",
       "        vertical-align: middle;\n",
       "    }\n",
       "\n",
       "    .dataframe tbody tr th {\n",
       "        vertical-align: top;\n",
       "    }\n",
       "\n",
       "    .dataframe thead th {\n",
       "        text-align: right;\n",
       "    }\n",
       "</style>\n",
       "<table border=\"1\" class=\"dataframe\">\n",
       "  <thead>\n",
       "    <tr style=\"text-align: right;\">\n",
       "      <th></th>\n",
       "      <th>Non-Fraud</th>\n",
       "      <th>Fraud</th>\n",
       "    </tr>\n",
       "  </thead>\n",
       "  <tbody>\n",
       "    <tr>\n",
       "      <th>Non-Fraud</th>\n",
       "      <td>4910515</td>\n",
       "      <td>172951</td>\n",
       "    </tr>\n",
       "    <tr>\n",
       "      <th>Fraud</th>\n",
       "      <td>678349</td>\n",
       "      <td>4405117</td>\n",
       "    </tr>\n",
       "  </tbody>\n",
       "</table>\n",
       "</div>"
      ],
      "text/plain": [
       "           Non-Fraud    Fraud\n",
       "Non-Fraud    4910515   172951\n",
       "Fraud         678349  4405117"
      ]
     },
     "execution_count": 45,
     "metadata": {},
     "output_type": "execute_result"
    }
   ],
   "source": [
    "y_train['Predict'] = pandas.DataFrame(model.predict(x_train))\n",
    "y_train['Predict'] = y_train['Predict'].astype(int)\n",
    "\n",
    "helpers.confusion_matrix(y_train, ['isFraud', 'Predict'], ['Non-Fraud', 'Fraud'])"
   ]
  },
  {
   "cell_type": "code",
   "execution_count": 46,
   "metadata": {
    "pycharm": {
     "is_executing": true
    }
   },
   "outputs": [
    {
     "data": {
      "text/html": [
       "<div>\n",
       "<style scoped>\n",
       "    .dataframe tbody tr th:only-of-type {\n",
       "        vertical-align: middle;\n",
       "    }\n",
       "\n",
       "    .dataframe tbody tr th {\n",
       "        vertical-align: top;\n",
       "    }\n",
       "\n",
       "    .dataframe thead th {\n",
       "        text-align: right;\n",
       "    }\n",
       "</style>\n",
       "<table border=\"1\" class=\"dataframe\">\n",
       "  <thead>\n",
       "    <tr style=\"text-align: right;\">\n",
       "      <th></th>\n",
       "      <th>Non-Fraud</th>\n",
       "      <th>Fraud</th>\n",
       "    </tr>\n",
       "  </thead>\n",
       "  <tbody>\n",
       "    <tr>\n",
       "      <th>Non-Fraud</th>\n",
       "      <td>613734</td>\n",
       "      <td>21748</td>\n",
       "    </tr>\n",
       "    <tr>\n",
       "      <th>Fraud</th>\n",
       "      <td>103</td>\n",
       "      <td>677</td>\n",
       "    </tr>\n",
       "  </tbody>\n",
       "</table>\n",
       "</div>"
      ],
      "text/plain": [
       "           Non-Fraud  Fraud\n",
       "Non-Fraud     613734  21748\n",
       "Fraud            103    677"
      ]
     },
     "execution_count": 46,
     "metadata": {},
     "output_type": "execute_result"
    }
   ],
   "source": [
    "y_test['Predict'] = pandas.DataFrame(model.predict(x_test))[0]\n",
    "y_test['Predict'] = y_test['Predict'].astype(int)\n",
    "\n",
    "helpers.confusion_matrix(y_test, ['isFraud', 'Predict'], ['Non-Fraud', 'Fraud'])"
   ]
  },
  {
   "cell_type": "code",
   "execution_count": 47,
   "metadata": {
    "pycharm": {
     "is_executing": true
    }
   },
   "outputs": [
    {
     "data": {
      "text/html": [
       "<div>\n",
       "<style scoped>\n",
       "    .dataframe tbody tr th:only-of-type {\n",
       "        vertical-align: middle;\n",
       "    }\n",
       "\n",
       "    .dataframe tbody tr th {\n",
       "        vertical-align: top;\n",
       "    }\n",
       "\n",
       "    .dataframe thead th {\n",
       "        text-align: right;\n",
       "    }\n",
       "</style>\n",
       "<table border=\"1\" class=\"dataframe\">\n",
       "  <thead>\n",
       "    <tr style=\"text-align: right;\">\n",
       "      <th></th>\n",
       "      <th>Non-Fraud</th>\n",
       "      <th>Fraud</th>\n",
       "    </tr>\n",
       "  </thead>\n",
       "  <tbody>\n",
       "    <tr>\n",
       "      <th>Non-Fraud</th>\n",
       "      <td>613671</td>\n",
       "      <td>21788</td>\n",
       "    </tr>\n",
       "    <tr>\n",
       "      <th>Fraud</th>\n",
       "      <td>127</td>\n",
       "      <td>676</td>\n",
       "    </tr>\n",
       "  </tbody>\n",
       "</table>\n",
       "</div>"
      ],
      "text/plain": [
       "           Non-Fraud  Fraud\n",
       "Non-Fraud     613671  21788\n",
       "Fraud            127    676"
      ]
     },
     "execution_count": 47,
     "metadata": {},
     "output_type": "execute_result"
    }
   ],
   "source": [
    "y_validation['Predict'] = pandas.DataFrame(model.predict(x_validation))[0]\n",
    "y_validation['Predict'] = y_validation['Predict'].astype(int)\n",
    "\n",
    "helpers.confusion_matrix(y_validation, ['isFraud', 'Predict'],['Non-Fraud', 'Fraud'])"
   ]
  },
  {
   "cell_type": "code",
   "execution_count": 48,
   "metadata": {
    "pycharm": {
     "is_executing": true
    }
   },
   "outputs": [
    {
     "data": {
      "text/html": [
       "<div>\n",
       "<style scoped>\n",
       "    .dataframe tbody tr th:only-of-type {\n",
       "        vertical-align: middle;\n",
       "    }\n",
       "\n",
       "    .dataframe tbody tr th {\n",
       "        vertical-align: top;\n",
       "    }\n",
       "\n",
       "    .dataframe thead th {\n",
       "        text-align: right;\n",
       "    }\n",
       "</style>\n",
       "<table border=\"1\" class=\"dataframe\">\n",
       "  <thead>\n",
       "    <tr style=\"text-align: right;\">\n",
       "      <th></th>\n",
       "      <th>Non-Fraud</th>\n",
       "      <th>Fraud</th>\n",
       "    </tr>\n",
       "  </thead>\n",
       "  <tbody>\n",
       "    <tr>\n",
       "      <th>Non-Fraud</th>\n",
       "      <td>0</td>\n",
       "      <td>0</td>\n",
       "    </tr>\n",
       "    <tr>\n",
       "      <th>Fraud</th>\n",
       "      <td>245</td>\n",
       "      <td>1398</td>\n",
       "    </tr>\n",
       "  </tbody>\n",
       "</table>\n",
       "</div>"
      ],
      "text/plain": [
       "           Non-Fraud  Fraud\n",
       "Non-Fraud          0      0\n",
       "Fraud            245   1398"
      ]
     },
     "execution_count": 48,
     "metadata": {},
     "output_type": "execute_result"
    }
   ],
   "source": [
    "x_fraud, y_fraud = helpers.x_and_y_separation(fraud_validation.reset_index(drop=True))\n",
    "y_fraud = pandas.DataFrame(y_fraud)\n",
    "\n",
    "y_fraud['Predict'] = pandas.DataFrame(model.predict(x_fraud))[0]\n",
    "y_fraud['Predict'] = y_fraud['Predict'].astype(int)\n",
    "\n",
    "helpers.confusion_matrix(y_fraud, ['isFraud', 'Predict'], ['Non-Fraud', 'Fraud'])"
   ]
  },
  {
   "cell_type": "code",
   "execution_count": 49,
   "metadata": {
    "pycharm": {
     "is_executing": true
    }
   },
   "outputs": [
    {
     "name": "stdout",
     "output_type": "stream",
     "text": [
      "0.916\n",
      "0.966\n",
      "0.966\n",
      "0.851\n"
     ]
    }
   ],
   "source": [
    "print('{:0.3f}'.format(accuracy_score(y_train['isFraud'], y_train['Predict'])))\n",
    "print('{:0.3f}'.format(accuracy_score(y_test['isFraud'], y_test['Predict'])))\n",
    "print('{:0.3f}'.format(accuracy_score(y_validation['isFraud'], y_validation['Predict'])))\n",
    "print('{:0.3f}'.format(accuracy_score(y_fraud['isFraud'], y_fraud['Predict'])))"
   ]
  },
  {
   "cell_type": "code",
   "execution_count": 51,
   "metadata": {
    "pycharm": {
     "is_executing": true
    }
   },
   "outputs": [
    {
     "data": {
      "text/html": [
       "<div>\n",
       "<style scoped>\n",
       "    .dataframe tbody tr th:only-of-type {\n",
       "        vertical-align: middle;\n",
       "    }\n",
       "\n",
       "    .dataframe tbody tr th {\n",
       "        vertical-align: top;\n",
       "    }\n",
       "\n",
       "    .dataframe thead th {\n",
       "        text-align: right;\n",
       "    }\n",
       "</style>\n",
       "<table border=\"1\" class=\"dataframe\">\n",
       "  <thead>\n",
       "    <tr style=\"text-align: right;\">\n",
       "      <th></th>\n",
       "      <th>train</th>\n",
       "      <th>test</th>\n",
       "      <th>validation</th>\n",
       "      <th>training time</th>\n",
       "    </tr>\n",
       "    <tr>\n",
       "      <th></th>\n",
       "      <th></th>\n",
       "      <th></th>\n",
       "      <th></th>\n",
       "      <th></th>\n",
       "    </tr>\n",
       "  </thead>\n",
       "  <tbody>\n",
       "    <tr>\n",
       "      <th>tree classifier</th>\n",
       "      <td>1.000</td>\n",
       "      <td>1.000</td>\n",
       "      <td>0.999</td>\n",
       "      <td>0:02:33.888025</td>\n",
       "    </tr>\n",
       "    <tr>\n",
       "      <th>random forest</th>\n",
       "      <td>1.000</td>\n",
       "      <td>0.999</td>\n",
       "      <td>0.999</td>\n",
       "      <td>0:31:12.724637</td>\n",
       "    </tr>\n",
       "    <tr>\n",
       "      <th>svm</th>\n",
       "      <td>0.916</td>\n",
       "      <td>0.966</td>\n",
       "      <td>0.966</td>\n",
       "      <td>0:28:47.734978</td>\n",
       "    </tr>\n",
       "  </tbody>\n",
       "</table>\n",
       "</div>"
      ],
      "text/plain": [
       "                 train   test  validation   training time\n",
       "                                                         \n",
       "tree classifier  1.000  1.000       0.999  0:02:33.888025\n",
       "random forest    1.000  0.999       0.999  0:31:12.724637\n",
       "svm              0.916  0.966       0.966  0:28:47.734978"
      ]
     },
     "execution_count": 51,
     "metadata": {},
     "output_type": "execute_result"
    }
   ],
   "source": [
    "acc = {\n",
    "    '': ['tree classifier', 'random forest', 'svm'],\n",
    "    'train': [1.000, 1.000, 0.916],\n",
    "    'test': [1.000, 0.999, 0.966],\n",
    "    'validation': [0.999, 0.999,0.966],\n",
    "    'training time': ['0:02:33.888025', '0:31:12.724637', '0:28:47.734978']\n",
    "}\n",
    "\n",
    "pandas.DataFrame(acc).set_index('')"
   ]
  },
  {
   "cell_type": "code",
   "execution_count": 52,
   "metadata": {
    "pycharm": {
     "is_executing": true,
     "name": "#%%\n"
    }
   },
   "outputs": [
    {
     "data": {
      "text/html": [
       "<div>\n",
       "<style scoped>\n",
       "    .dataframe tbody tr th:only-of-type {\n",
       "        vertical-align: middle;\n",
       "    }\n",
       "\n",
       "    .dataframe tbody tr th {\n",
       "        vertical-align: top;\n",
       "    }\n",
       "\n",
       "    .dataframe thead th {\n",
       "        text-align: right;\n",
       "    }\n",
       "</style>\n",
       "<table border=\"1\" class=\"dataframe\">\n",
       "  <thead>\n",
       "    <tr style=\"text-align: right;\">\n",
       "      <th></th>\n",
       "      <th>fraud</th>\n",
       "      <th>training time</th>\n",
       "    </tr>\n",
       "    <tr>\n",
       "      <th></th>\n",
       "      <th></th>\n",
       "      <th></th>\n",
       "    </tr>\n",
       "  </thead>\n",
       "  <tbody>\n",
       "    <tr>\n",
       "      <th>tree classifier</th>\n",
       "      <td>0.821</td>\n",
       "      <td>0:02:33.888025</td>\n",
       "    </tr>\n",
       "    <tr>\n",
       "      <th>random forest</th>\n",
       "      <td>0.847</td>\n",
       "      <td>0:31:12.724637</td>\n",
       "    </tr>\n",
       "    <tr>\n",
       "      <th>svm</th>\n",
       "      <td>0.834</td>\n",
       "      <td>0:28:47.734978</td>\n",
       "    </tr>\n",
       "  </tbody>\n",
       "</table>\n",
       "</div>"
      ],
      "text/plain": [
       "                 fraud   training time\n",
       "                                      \n",
       "tree classifier  0.821  0:02:33.888025\n",
       "random forest    0.847  0:31:12.724637\n",
       "svm              0.834  0:28:47.734978"
      ]
     },
     "execution_count": 52,
     "metadata": {},
     "output_type": "execute_result"
    }
   ],
   "source": [
    "acc = {\n",
    "    '': ['tree classifier', 'random forest', 'svm'],\n",
    "    'fraud': [0.821, 0.847, 0.834],\n",
    "    'training time': ['0:02:33.888025', '0:31:12.724637', '0:28:47.734978']\n",
    "}\n",
    "\n",
    "pandas.DataFrame(acc).set_index('')"
   ]
  },
  {
   "cell_type": "code",
   "execution_count": null,
   "metadata": {},
   "outputs": [],
   "source": [
    "In [4]:ros = RandomOverSampler(random_state=0)\n",
    "x_train, y_train = ros.fit_resample(x_train, y_train)"
   ]
  }
 ],
 "metadata": {
  "kernelspec": {
   "display_name": "PyCharm (mooncake)",
   "language": "python",
   "name": "pycharm-bcb8e424"
  },
  "language_info": {
   "codemirror_mode": {
    "name": "ipython",
    "version": 3
   },
   "file_extension": ".py",
   "mimetype": "text/x-python",
   "name": "python",
   "nbconvert_exporter": "python",
   "pygments_lexer": "ipython3",
   "version": "3.7.6"
  }
 },
 "nbformat": 4,
 "nbformat_minor": 1
}