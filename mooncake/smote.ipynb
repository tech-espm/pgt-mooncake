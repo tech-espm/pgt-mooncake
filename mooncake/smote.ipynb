{
 "cells" : [
  {
   "cell_type" : "code",
   "execution_count" : 26,
   "metadata" : {
    "pycharm" : {
     "is_executing" : false
    }
   },
   "outputs" : [ ],
   "source" : [
    "from sklearn.metrics import accuracy_score\n",
    "from imblearn.over_sampling import SMOTE\n",
    "from sklearn import linear_model\n",
    "\n",
    "import helpers\n",
    "import models\n",
    "\n",
    "import pandas"
   ]
  },
  {
   "cell_type" : "code",
   "execution_count" : 4,
   "metadata" : { },
   "outputs" : [ ],
   "source" : [
    "train_path = r\"C:\\Users\\bruno\\Downloads\\paysim1\\datasource.csv\""
   ]
  },
  {
   "cell_type" : "code",
   "execution_count" : 5,
   "metadata" : { },
   "outputs" : [ ],
   "source" : [
    "df = pandas.read_csv(train_path).drop(['isFlaggedFraud', 'nameOrig', 'nameDest'], axis=1)"
   ]
  },
  {
   "cell_type" : "code",
   "execution_count" : 6,
   "metadata" : { },
   "outputs" : [
    {
     "data" : {
      "text/plain" : [
       "Index(['step', 'type', 'amount', 'oldbalanceOrg', 'newbalanceOrig',\n",
       "       'oldbalanceDest', 'newbalanceDest', 'isFraud'],\n",
       "      dtype='object')"
      ]
     },
     "execution_count" : 6,
     "metadata" : { },
     "output_type" : "execute_result"
    }
   ],
   "source" : [
    "df.columns"
   ]
  },
  {
   "cell_type" : "code",
   "execution_count" : 7,
   "metadata" : { },
   "outputs" : [
    {
     "data" : {
      "text/plain" : [
       "CASH_OUT    2237500\n",
       "PAYMENT     2151495\n",
       "CASH_IN     1399284\n",
       "TRANSFER     532909\n",
       "DEBIT         41432\n",
       "Name: type, dtype: int64"
      ]
     },
     "execution_count" : 7,
     "metadata" : { },
     "output_type" : "execute_result"
    }
   ],
   "source" : [
    "df.type.value_counts()"
   ]
  },
  {
   "cell_type" : "code",
   "execution_count" : 8,
   "metadata" : { },
   "outputs" : [
    {
     "data" : {
      "text/plain" : [
       "0    6354407\n",
       "1       8213\n",
       "Name: isFraud, dtype: int64"
      ]
     },
     "execution_count" : 8,
     "metadata" : { },
     "output_type" : "execute_result"
    }
   ],
   "source" : [
    "df.isFraud.value_counts()"
   ]
  },
  {
   "cell_type" : "code",
   "execution_count" : 9,
   "metadata" : { },
   "outputs" : [ ],
   "source" : [
    "df.loc[df['type'] == 'CASH_IN', 'type'] = 0\n",
    "df.loc[df['type'] == 'CASH_OUT', 'type'] = 1\n",
    "df.loc[df['type'] == 'DEBIT', 'type'] = 2\n",
    "df.loc[df['type'] == 'PAYMENT', 'type'] = 3\n",
    "df.loc[df['type'] == 'TRANSFER', 'type'] = 4"
   ]
  },
  {
   "cell_type" : "code",
   "execution_count" : 10,
   "metadata" : { },
   "outputs" : [
    {
     "data" : {
      "text/plain" : [
       "0.12908204481801522"
      ]
     },
     "execution_count" : 10,
     "metadata" : { },
     "output_type" : "execute_result"
    }
   ],
   "source" : [
    "len(df[df['isFraud'] == 1] )/len(df) * 100"
   ]
  },
  {
   "cell_type" : "code",
   "execution_count" : 11,
   "metadata" : { },
   "outputs" : [ ],
   "source" : [
    "df_non_fraud = df[df['isFraud'] == 0]\n",
    "df_fraud = df[df['isFraud'] == 1]"
   ]
  },
  {
   "cell_type" : "code",
   "execution_count" : 12,
   "metadata" : { },
   "outputs" : [ ],
   "source" : [
    "df_fraud, fraud_validation = helpers.data_separation(df_fraud)\n",
    "df_non_fraud = helpers.data_separation(df_non_fraud, 0.05)[1].reset_index(drop=True)\n",
    "df = df_non_fraud.append(df_fraud).reset_index(drop=True)"
   ]
  },
  {
   "cell_type" : "code",
   "execution_count" : 13,
   "metadata" : { },
   "outputs" : [ ],
   "source" : [
    "train, test = helpers.data_separation(df)\n",
    "test, validation = helpers.data_separation(test, 0.4)"
   ]
  },
  {
   "cell_type" : "code",
   "execution_count" : 14,
   "metadata" : { },
   "outputs" : [ ],
   "source" : [
    "x_train, y_train = helpers.x_and_y_separation(train)\n",
    "x_test, y_test = helpers.x_and_y_separation(test)\n",
    "x_validation, y_validation = helpers.x_and_y_separation(validation)\n",
    "\n",
    "y_train = pandas.DataFrame(y_train)\n",
    "y_test = pandas.DataFrame(y_test)\n",
    "y_validation = pandas.DataFrame(y_validation)"
   ]
  },
  {
   "cell_type" : "code",
   "execution_count" : 15,
   "metadata" : { },
   "outputs" : [ ],
   "source" : [
    "x_train, y_train = SMOTE().fit_sample(x_train, y_train)"
   ]
  },
  {
   "cell_type" : "code",
   "execution_count" : 16,
   "metadata" : { },
   "outputs" : [ ],
   "source" : [
    "y_train.reset_index(drop=True, inplace=True)\n",
    "y_test.reset_index(drop=True, inplace=True)\n",
    "y_validation.reset_index(drop=True, inplace=True)"
   ]
  },
  {
   "cell_type" : "code",
   "execution_count" : null,
   "metadata" : { },
   "outputs" : [ ],
   "source" : [
    "model = linear_model.LinearRegression().fit(x_train, y_train)"
   ]
  },
  {
   "cell_type" : "code",
   "execution_count" : 18,
   "metadata" : { },
   "outputs" : [ ],
   "source" : [
    "model = models.RandomForest(x_train, y_train.isFraud).fit()"
   ]
  },
  {
   "cell_type" : "code",
   "execution_count" : 19,
   "metadata" : { },
   "outputs" : [
    {
     "data" : {
      "text/html" : [
       "<div>\n",
       "<style scoped>\n",
       "    .dataframe tbody tr th:only-of-type {\n",
       "        vertical-align: middle;\n",
       "    }\n",
       "\n",
       "    .dataframe tbody tr th {\n",
       "        vertical-align: top;\n",
       "    }\n",
       "\n",
       "    .dataframe thead th {\n",
       "        text-align: right;\n",
       "    }\n",
       "</style>\n",
       "<table border=\"1\" class=\"dataframe\">\n",
       "  <thead>\n",
       "    <tr style=\"text-align: right;\">\n",
       "      <th></th>\n",
       "      <th>0</th>\n",
       "      <th>1</th>\n",
       "    </tr>\n",
       "  </thead>\n",
       "  <tbody>\n",
       "    <tr>\n",
       "      <th>0</th>\n",
       "      <td>254203</td>\n",
       "      <td>0</td>\n",
       "    </tr>\n",
       "    <tr>\n",
       "      <th>1</th>\n",
       "      <td>0</td>\n",
       "      <td>254203</td>\n",
       "    </tr>\n",
       "  </tbody>\n",
       "</table>\n",
       "</div>"
      ],
      "text/plain" : [
       "        0       1\n",
       "0  254203       0\n",
       "1       0  254203"
      ]
     },
     "execution_count" : 19,
     "metadata" : { },
     "output_type" : "execute_result"
    }
   ],
   "source" : [
    "y_train['Predict'] = pandas.DataFrame(model.predict(x_train))\n",
    "y_train['Predict'] = y_train['Predict'].astype(int)\n",
    "\n",
    "helpers.confusion_matrix(y_train, ['isFraud', 'Predict'])"
   ]
  },
  {
   "cell_type" : "code",
   "execution_count" : 20,
   "metadata" : { },
   "outputs" : [
    {
     "data" : {
      "text/html" : [
       "<div>\n",
       "<style scoped>\n",
       "    .dataframe tbody tr th:only-of-type {\n",
       "        vertical-align: middle;\n",
       "    }\n",
       "\n",
       "    .dataframe tbody tr th {\n",
       "        vertical-align: top;\n",
       "    }\n",
       "\n",
       "    .dataframe thead th {\n",
       "        text-align: right;\n",
       "    }\n",
       "</style>\n",
       "<table border=\"1\" class=\"dataframe\">\n",
       "  <thead>\n",
       "    <tr style=\"text-align: right;\">\n",
       "      <th></th>\n",
       "      <th>0</th>\n",
       "      <th>1</th>\n",
       "    </tr>\n",
       "  </thead>\n",
       "  <tbody>\n",
       "    <tr>\n",
       "      <th>0</th>\n",
       "      <td>37987</td>\n",
       "      <td>104</td>\n",
       "    </tr>\n",
       "    <tr>\n",
       "      <th>1</th>\n",
       "      <td>19</td>\n",
       "      <td>805</td>\n",
       "    </tr>\n",
       "  </tbody>\n",
       "</table>\n",
       "</div>"
      ],
      "text/plain" : [
       "       0    1\n",
       "0  37987  104\n",
       "1     19  805"
      ]
     },
     "execution_count" : 20,
     "metadata" : { },
     "output_type" : "execute_result"
    }
   ],
   "source" : [
    "y_test['Predict'] = pandas.DataFrame(model.predict(x_test))\n",
    "y_test['Predict'] = y_test['Predict'].astype(int)\n",
    "\n",
    "helpers.confusion_matrix(y_test, ['isFraud', 'Predict'])"
   ]
  },
  {
   "cell_type" : "code",
   "execution_count" : 21,
   "metadata" : { },
   "outputs" : [
    {
     "data" : {
      "text/html" : [
       "<div>\n",
       "<style scoped>\n",
       "    .dataframe tbody tr th:only-of-type {\n",
       "        vertical-align: middle;\n",
       "    }\n",
       "\n",
       "    .dataframe tbody tr th {\n",
       "        vertical-align: top;\n",
       "    }\n",
       "\n",
       "    .dataframe thead th {\n",
       "        text-align: right;\n",
       "    }\n",
       "</style>\n",
       "<table border=\"1\" class=\"dataframe\">\n",
       "  <thead>\n",
       "    <tr style=\"text-align: right;\">\n",
       "      <th></th>\n",
       "      <th>0</th>\n",
       "      <th>1</th>\n",
       "    </tr>\n",
       "  </thead>\n",
       "  <tbody>\n",
       "    <tr>\n",
       "      <th>0</th>\n",
       "      <td>25357</td>\n",
       "      <td>70</td>\n",
       "    </tr>\n",
       "    <tr>\n",
       "      <th>1</th>\n",
       "      <td>8</td>\n",
       "      <td>509</td>\n",
       "    </tr>\n",
       "  </tbody>\n",
       "</table>\n",
       "</div>"
      ],
      "text/plain" : [
       "       0    1\n",
       "0  25357   70\n",
       "1      8  509"
      ]
     },
     "execution_count" : 21,
     "metadata" : { },
     "output_type" : "execute_result"
    }
   ],
   "source" : [
    "y_validation['Predict'] = pandas.DataFrame(model.predict(x_validation))\n",
    "y_validation['Predict'] = y_validation['Predict'].astype(int)\n",
    "\n",
    "helpers.confusion_matrix(y_validation, ['isFraud', 'Predict'])"
   ]
  },
  {
   "cell_type" : "code",
   "execution_count" : 22,
   "metadata" : { },
   "outputs" : [
    {
     "data" : {
      "text/html" : [
       "<div>\n",
       "<style scoped>\n",
       "    .dataframe tbody tr th:only-of-type {\n",
       "        vertical-align: middle;\n",
       "    }\n",
       "\n",
       "    .dataframe tbody tr th {\n",
       "        vertical-align: top;\n",
       "    }\n",
       "\n",
       "    .dataframe thead th {\n",
       "        text-align: right;\n",
       "    }\n",
       "</style>\n",
       "<table border=\"1\" class=\"dataframe\">\n",
       "  <thead>\n",
       "    <tr style=\"text-align: right;\">\n",
       "      <th></th>\n",
       "      <th>0</th>\n",
       "      <th>1</th>\n",
       "    </tr>\n",
       "  </thead>\n",
       "  <tbody>\n",
       "    <tr>\n",
       "      <th>0</th>\n",
       "      <td>0</td>\n",
       "      <td>0</td>\n",
       "    </tr>\n",
       "    <tr>\n",
       "      <th>1</th>\n",
       "      <td>18</td>\n",
       "      <td>1625</td>\n",
       "    </tr>\n",
       "  </tbody>\n",
       "</table>\n",
       "</div>"
      ],
      "text/plain" : [
       "    0     1\n",
       "0   0     0\n",
       "1  18  1625"
      ]
     },
     "execution_count" : 22,
     "metadata" : { },
     "output_type" : "execute_result"
    }
   ],
   "source" : [
    "x_fraud, y_fraud = helpers.x_and_y_separation(fraud_validation.reset_index(drop=True))\n",
    "y_fraud = pandas.DataFrame(y_fraud)\n",
    "\n",
    "y_fraud['Predict'] = pandas.DataFrame(model.predict(x_fraud))\n",
    "y_fraud['Predict'] = y_fraud['Predict'].astype(int)\n",
    "\n",
    "helpers.confusion_matrix(y_fraud, ['isFraud', 'Predict'])"
   ]
  },
  {
   "cell_type" : "code",
   "execution_count" : 68,
   "metadata" : { },
   "outputs" : [
    {
     "name" : "stdout",
     "output_type" : "stream",
     "text" : [
      "1.000\n",
      "0.997\n",
      "0.997\n",
      "0.989\n"
     ]
    }
   ],
   "source" : [
    "print('{:0.3f}'.format(accuracy_score(y_train['isFraud'], y_train['Predict'])))\n",
    "print('{:0.3f}'.format(accuracy_score(y_test['isFraud'], y_test['Predict'])))\n",
    "print('{:0.3f}'.format(accuracy_score(y_validation['isFraud'], y_validation['Predict'])))\n",
    "print('{:0.3f}'.format(accuracy_score(y_fraud['isFraud'], y_fraud['Predict'])))"
   ]
  }
 ],
 "metadata" : {
  "kernelspec" : {
   "display_name" : "Python 3",
   "language" : "python",
   "name" : "python3"
  },
  "language_info" : {
   "codemirror_mode" : {
    "name" : "ipython",
    "version" : 3
   },
   "file_extension" : ".py",
   "mimetype" : "text/x-python",
   "name" : "python",
   "nbconvert_exporter" : "python",
   "pygments_lexer" : "ipython3",
   "version" : "3.6.10"
  },
  "pycharm" : {
   "stem_cell" : {
    "cell_type" : "raw",
    "metadata" : {
     "collapsed" : false
    },
    "source" : [ ]
   }
  }
 },
 "nbformat" : 4,
 "nbformat_minor" : 1
}